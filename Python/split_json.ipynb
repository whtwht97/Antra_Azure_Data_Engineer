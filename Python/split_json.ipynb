{
 "cells": [
  {
   "cell_type": "code",
   "execution_count": 2,
   "id": "038cb934",
   "metadata": {},
   "outputs": [],
   "source": [
    "import os \n",
    "import pandas as pd\n",
    "import json"
   ]
  },
  {
   "cell_type": "code",
   "execution_count": 3,
   "id": "be4ea47d",
   "metadata": {},
   "outputs": [
    {
     "data": {
      "text/html": [
       "<div>\n",
       "<style scoped>\n",
       "    .dataframe tbody tr th:only-of-type {\n",
       "        vertical-align: middle;\n",
       "    }\n",
       "\n",
       "    .dataframe tbody tr th {\n",
       "        vertical-align: top;\n",
       "    }\n",
       "\n",
       "    .dataframe thead th {\n",
       "        text-align: right;\n",
       "    }\n",
       "</style>\n",
       "<table border=\"1\" class=\"dataframe\">\n",
       "  <thead>\n",
       "    <tr style=\"text-align: right;\">\n",
       "      <th></th>\n",
       "      <th>movie</th>\n",
       "    </tr>\n",
       "  </thead>\n",
       "  <tbody>\n",
       "    <tr>\n",
       "      <th>0</th>\n",
       "      <td>{'Id': 1, 'Title': 'Inception', 'Overview': 'C...</td>\n",
       "    </tr>\n",
       "    <tr>\n",
       "      <th>1</th>\n",
       "      <td>{'Id': 2, 'Title': 'Interstellar', 'Overview':...</td>\n",
       "    </tr>\n",
       "    <tr>\n",
       "      <th>2</th>\n",
       "      <td>{'Id': 3, 'Title': 'The Dark Knight', 'Overvie...</td>\n",
       "    </tr>\n",
       "    <tr>\n",
       "      <th>3</th>\n",
       "      <td>{'Id': 4, 'Title': 'Deadpool', 'Overview': 'De...</td>\n",
       "    </tr>\n",
       "    <tr>\n",
       "      <th>4</th>\n",
       "      <td>{'Id': 5, 'Title': 'The Avengers', 'Overview':...</td>\n",
       "    </tr>\n",
       "    <tr>\n",
       "      <th>...</th>\n",
       "      <td>...</td>\n",
       "    </tr>\n",
       "    <tr>\n",
       "      <th>9990</th>\n",
       "      <td>{'Id': 9995, 'Title': 'Tough Guys', 'Overview'...</td>\n",
       "    </tr>\n",
       "    <tr>\n",
       "      <th>9991</th>\n",
       "      <td>{'Id': 9996, 'Title': 'The Road to Guantanamo'...</td>\n",
       "    </tr>\n",
       "    <tr>\n",
       "      <th>9992</th>\n",
       "      <td>{'Id': 9997, 'Title': 'Lassie Come Home', 'Ove...</td>\n",
       "    </tr>\n",
       "    <tr>\n",
       "      <th>9993</th>\n",
       "      <td>{'Id': 9998, 'Title': 'Black Is King', 'Overvi...</td>\n",
       "    </tr>\n",
       "    <tr>\n",
       "      <th>9994</th>\n",
       "      <td>{'Id': 9999, 'Title': 'Made in Italy', 'Overvi...</td>\n",
       "    </tr>\n",
       "  </tbody>\n",
       "</table>\n",
       "<p>9995 rows × 1 columns</p>\n",
       "</div>"
      ],
      "text/plain": [
       "                                                  movie\n",
       "0     {'Id': 1, 'Title': 'Inception', 'Overview': 'C...\n",
       "1     {'Id': 2, 'Title': 'Interstellar', 'Overview':...\n",
       "2     {'Id': 3, 'Title': 'The Dark Knight', 'Overvie...\n",
       "3     {'Id': 4, 'Title': 'Deadpool', 'Overview': 'De...\n",
       "4     {'Id': 5, 'Title': 'The Avengers', 'Overview':...\n",
       "...                                                 ...\n",
       "9990  {'Id': 9995, 'Title': 'Tough Guys', 'Overview'...\n",
       "9991  {'Id': 9996, 'Title': 'The Road to Guantanamo'...\n",
       "9992  {'Id': 9997, 'Title': 'Lassie Come Home', 'Ove...\n",
       "9993  {'Id': 9998, 'Title': 'Black Is King', 'Overvi...\n",
       "9994  {'Id': 9999, 'Title': 'Made in Italy', 'Overvi...\n",
       "\n",
       "[9995 rows x 1 columns]"
      ]
     },
     "execution_count": 3,
     "metadata": {},
     "output_type": "execute_result"
    }
   ],
   "source": [
    "movie = pd.read_json('movie.json')\n",
    "movie"
   ]
  },
  {
   "cell_type": "code",
   "execution_count": null,
   "id": "d0ec5493",
   "metadata": {},
   "outputs": [],
   "source": [
    "# split to 8 files \n",
    "\n",
    "with open('movie.json', 'r', encoding='utf-8') as file:\n",
    "    js= json.load(file)\n",
    "\n",
    "chunks = 8\n",
    "movies = js['movie']\n",
    "movies_per_chunk = len(movies)// chunks\n",
    "\n",
    "for current_chunk in range(chunks):\n",
    "    with open('movie_' + str(current_chunk) + '.json', 'w') as outfile:\n",
    "        to_write = {\n",
    "            'movie': movies[current_chunk * movies_per_chunk:(current_chunk + 1) * movies_per_chunk]\n",
    "        }\n",
    "        json.dump(to_write, outfile, indent = 4)"
   ]
  }
 ],
 "metadata": {
  "kernelspec": {
   "display_name": "Python 3 (ipykernel)",
   "language": "python",
   "name": "python3"
  },
  "language_info": {
   "codemirror_mode": {
    "name": "ipython",
    "version": 3
   },
   "file_extension": ".py",
   "mimetype": "text/x-python",
   "name": "python",
   "nbconvert_exporter": "python",
   "pygments_lexer": "ipython3",
   "version": "3.9.7"
  }
 },
 "nbformat": 4,
 "nbformat_minor": 5
}
